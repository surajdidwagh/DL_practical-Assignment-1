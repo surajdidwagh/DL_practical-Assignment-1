{
  "nbformat": 4,
  "nbformat_minor": 0,
  "metadata": {
    "colab": {
      "provenance": []
    },
    "kernelspec": {
      "name": "python3",
      "display_name": "Python 3"
    },
    "language_info": {
      "name": "python"
    }
  },
  "cells": [
    {
      "cell_type": "code",
      "execution_count": 1,
      "metadata": {
        "colab": {
          "base_uri": "https://localhost:8080/"
        },
        "id": "EwDfTR2PWFE2",
        "outputId": "f11af0f5-603b-4e59-aba6-1c9054dfafac"
      },
      "outputs": [
        {
          "output_type": "stream",
          "name": "stdout",
          "text": [
            "   sepal_length  sepal_width  petal_length  petal_width      species\n",
            "0           5.1          3.5           1.4          0.2  Iris-setosa\n",
            "1           4.9          3.0           1.4          0.2  Iris-setosa\n",
            "2           4.7          3.2           1.3          0.2  Iris-setosa\n",
            "3           4.6          3.1           1.5          0.2  Iris-setosa\n",
            "4           5.0          3.6           1.4          0.2  Iris-setosa\n"
          ]
        }
      ],
      "source": [
        "import pandas as pd\n",
        "\n",
        "# Load the uploaded dataset\n",
        "data = pd.read_csv('/content/drive/MyDrive/IRIS.csv')\n",
        "\n",
        "# Display the first few rows of the dataset to understand its structure\n",
        "print(data.head())  # Use print() to display rows in standard output\n"
      ]
    },
    {
      "cell_type": "code",
      "source": [
        " import numpy as np\n",
        "import pandas as pd\n",
        "from sklearn.model_selection import train_test_split\n",
        "from sklearn.preprocessing import OneHotEncoder, StandardScaler\n",
        "\n",
        "# Load the dataset\n",
        "data = pd.read_csv('//content/drive/MyDrive/IRIS.csv')\n",
        "\n",
        "# Preprocessing\n",
        "X = data.iloc[:, :-1].values  # Features (sepal_length, sepal_width, petal_length, petal_width)\n",
        "y = data.iloc[:, -1].values   # Target (species)\n",
        "\n",
        "# Encode target labels to one-hot format\n",
        "encoder = OneHotEncoder()\n",
        "y = encoder.fit_transform(y.reshape(-1, 1)).toarray()\n",
        "\n",
        "# Standardize the features\n",
        "scaler = StandardScaler()\n",
        "X = scaler.fit_transform(X)\n",
        "\n",
        "# Split the dataset into training and testing sets\n",
        "X_train, X_test, y_train, y_test = train_test_split(X, y, test_size=0.2, random_state=42)\n",
        "\n",
        "# Define the Neural Network Architecture\n",
        "input_size = X.shape[1]  # Number of input features\n",
        "hidden_size = 5          # Number of neurons in the hidden layer\n",
        "output_size = y.shape[1] # Number of output classes (species)\n",
        "\n",
        "# Initialize weights and biases\n",
        "np.random.seed(42)\n",
        "weights_input_hidden = np.random.randn(input_size, hidden_size)\n",
        "bias_hidden = np.zeros((1, hidden_size))\n",
        "weights_hidden_output = np.random.randn(hidden_size, output_size)\n",
        "bias_output = np.zeros((1, output_size))\n",
        "\n",
        "# Activation functions\n",
        "def sigmoid(x):\n",
        "    return 1 / (1 + np.exp(-x))\n",
        "\n",
        "def sigmoid_derivative(x):\n",
        "    return x * (1 - x)\n",
        "\n",
        "def softmax(x):\n",
        "    exp_values = np.exp(x - np.max(x, axis=1, keepdims=True))\n",
        "    return exp_values / np.sum(exp_values, axis=1, keepdims=True)\n",
        "\n",
        "# Loss function\n",
        "def cross_entropy_loss(y_true, y_pred):\n",
        "    return -np.mean(np.sum(y_true * np.log(y_pred + 1e-9), axis=1))\n",
        "\n",
        "# Forward pass\n",
        "def forward_pass(X):\n",
        "    hidden_input = np.dot(X, weights_input_hidden) + bias_hidden\n",
        "    hidden_output = sigmoid(hidden_input)\n",
        "\n",
        "    output_input = np.dot(hidden_output, weights_hidden_output) + bias_output\n",
        "    output_output = softmax(output_input)\n",
        "\n",
        "    return hidden_output, output_output\n",
        "\n",
        "# Backpropagation\n",
        "def backward_pass(X, y, hidden_output, output_output, learning_rate):\n",
        "    global weights_input_hidden, bias_hidden, weights_hidden_output, bias_output\n",
        "\n",
        "    # Output layer error\n",
        "    output_error = output_output - y\n",
        "    output_gradient = np.dot(hidden_output.T, output_error)\n",
        "\n",
        "    # Hidden layer error\n",
        "    hidden_error = np.dot(output_error, weights_hidden_output.T) * sigmoid_derivative(hidden_output)\n",
        "    hidden_gradient = np.dot(X.T, hidden_error)\n",
        "\n",
        "    # Update weights and biases\n",
        "    weights_hidden_output -= learning_rate * output_gradient\n",
        "    bias_output -= learning_rate * np.sum(output_error, axis=0, keepdims=True)\n",
        "    weights_input_hidden -= learning_rate * hidden_gradient\n",
        "    bias_hidden -= learning_rate * np.sum(hidden_error, axis=0, keepdims=True)\n",
        "\n",
        "# Training the Neural Network\n",
        "epochs = 1000\n",
        "learning_rate = 0.01\n",
        "\n",
        "for epoch in range(epochs):\n",
        "    # Forward pass\n",
        "    hidden_output, output_output = forward_pass(X_train)\n",
        "\n",
        "    # Compute loss\n",
        "    loss = cross_entropy_loss(y_train, output_output)\n",
        "\n",
        "    # Backward pass\n",
        "    backward_pass(X_train, y_train, hidden_output, output_output, learning_rate)\n",
        "\n",
        "    if epoch % 100 == 0:\n",
        "        print(f\"Epoch {epoch}, Loss: {loss:.4f}\")\n",
        "\n",
        "# Testing the Model\n",
        "_, y_pred = forward_pass(X_test)\n",
        "y_pred_classes = np.argmax(y_pred, axis=1)\n",
        "y_true_classes = np.argmax(y_test, axis=1)\n",
        "\n",
        "accuracy = np.mean(y_pred_classes == y_true_classes)\n",
        "print(f\"Test Accuracy: {accuracy * 100:.2f}%\")\n"
      ],
      "metadata": {
        "colab": {
          "base_uri": "https://localhost:8080/"
        },
        "id": "uzyyARk3XUNf",
        "outputId": "36f4ea39-a060-4dbb-cfca-4a69fb90809d"
      },
      "execution_count": 6,
      "outputs": [
        {
          "output_type": "stream",
          "name": "stdout",
          "text": [
            "Epoch 0, Loss: 2.1028\n",
            "Epoch 100, Loss: 0.1375\n",
            "Epoch 200, Loss: 0.0800\n",
            "Epoch 300, Loss: 0.0647\n",
            "Epoch 400, Loss: 0.0581\n",
            "Epoch 500, Loss: 0.0546\n",
            "Epoch 600, Loss: 0.0525\n",
            "Epoch 700, Loss: 0.0511\n",
            "Epoch 800, Loss: 0.0502\n",
            "Epoch 900, Loss: 0.0495\n",
            "Test Accuracy: 100.00%\n"
          ]
        }
      ]
    }
  ]
}